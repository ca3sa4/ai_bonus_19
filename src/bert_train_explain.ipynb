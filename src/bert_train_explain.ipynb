{
 "cells": [
  {
   "cell_type": "code",
   "execution_count": 1,
   "metadata": {},
   "outputs": [
    {
     "name": "stdout",
     "output_type": "stream",
     "text": [
      "using Keras version: 2.2.4-tf\n",
      "preprocessing train...\n",
      "language: en\n"
     ]
    },
    {
     "data": {
      "text/html": [
       "done."
      ],
      "text/plain": [
       "<IPython.core.display.HTML object>"
      ]
     },
     "metadata": {},
     "output_type": "display_data"
    },
    {
     "name": "stdout",
     "output_type": "stream",
     "text": [
      "preprocessing test...\n",
      "language: en\n"
     ]
    },
    {
     "data": {
      "text/html": [
       "done."
      ],
      "text/plain": [
       "<IPython.core.display.HTML object>"
      ]
     },
     "metadata": {},
     "output_type": "display_data"
    },
    {
     "name": "stdout",
     "output_type": "stream",
     "text": [
      "Is Multi-Label? False\n",
      "maxlen is 75\n",
      "done.\n",
      "\n",
      "\n",
      "begin training using onecycle policy with max lr of 3e-05...\n",
      "Train on 720 samples, validate on 180 samples\n",
      "Epoch 1/8\n",
      "720/720 [==============================] - 39s 55ms/sample - loss: 2.2663 - accuracy: 0.1236 - val_loss: 2.1138 - val_accuracy: 0.2444\n",
      "Epoch 2/8\n",
      "720/720 [==============================] - 25s 35ms/sample - loss: 2.0125 - accuracy: 0.2736 - val_loss: 2.0224 - val_accuracy: 0.2778\n",
      "Epoch 3/8\n",
      "720/720 [==============================] - 25s 34ms/sample - loss: 1.7453 - accuracy: 0.4111 - val_loss: 1.9614 - val_accuracy: 0.3278\n",
      "Epoch 4/8\n",
      "720/720 [==============================] - 25s 35ms/sample - loss: 1.3138 - accuracy: 0.5639 - val_loss: 1.8946 - val_accuracy: 0.4389\n",
      "Epoch 5/8\n",
      "720/720 [==============================] - 25s 35ms/sample - loss: 0.7959 - accuracy: 0.7736 - val_loss: 2.1558 - val_accuracy: 0.3278\n",
      "Epoch 6/8\n",
      "720/720 [==============================] - 25s 35ms/sample - loss: 0.4440 - accuracy: 0.9056 - val_loss: 2.2426 - val_accuracy: 0.3889\n",
      "Epoch 7/8\n",
      "720/720 [==============================] - 25s 35ms/sample - loss: 0.2355 - accuracy: 0.9736 - val_loss: 2.3072 - val_accuracy: 0.3278\n",
      "Epoch 8/8\n",
      "720/720 [==============================] - 25s 34ms/sample - loss: 0.1675 - accuracy: 0.9903 - val_loss: 2.2971 - val_accuracy: 0.3444\n"
     ]
    }
   ],
   "source": [
    "%reload_ext autoreload\n",
    "%autoreload 2\n",
    "%matplotlib inline\n",
    "import os\n",
    "os.environ[\"CUDA_DEVICE_ORDER\"] = \"PCI_BUS_ID\"\n",
    "os.environ[\"CUDA_VISIBLE_DEVICES\"] = \"0\"\n",
    "\n",
    "import ktrain.text as text\n",
    "import ktrain\n",
    "import pandas as pd\n",
    "\n",
    "preprocessing = None\n",
    "learner = None\n",
    "model = None\n",
    "input = pd.read_csv('../data/complete_ktrain.csv')\n",
    "\n",
    "(x_train, y_train), (x_val, y_val), preprocessing = text.texts_from_df(train_df=input, text_column='sentence',\n",
    "                                                                       label_columns=['joy', 'trust', 'fear',\n",
    "                                                                                      'surprise', 'sadness',\n",
    "                                                                                      'disgust', 'anger',\n",
    "                                                                                      'anticipation', 'neutral'],\n",
    "                                                                       preprocess_mode='bert',\n",
    "                                                                       val_pct=0.2, max_features=1000, maxlen=75)\n",
    "\n",
    "model = text.text_classifier(name='bert', train_data=(x_train, y_train), preproc=preprocessing)\n",
    "\n",
    "learner = ktrain.get_learner(model=model, train_data=(x_train, y_train), val_data=(x_val, y_val), batch_size=16)\n",
    "\n",
    "history = learner.fit_onecycle(lr=3e-5, epochs=8)"
   ]
  },
  {
   "cell_type": "code",
   "execution_count": 4,
   "metadata": {},
   "outputs": [],
   "source": [
    "test = pd.read_csv('../data/test_set.csv')\n",
    "sentences = test['sentence'].values\n",
    "labels = test['label'].values\n",
    "predictor = ktrain.get_predictor(learner.model, preproc=preprocessing)"
   ]
  },
  {
   "cell_type": "code",
   "execution_count": 15,
   "metadata": {},
   "outputs": [
    {
     "name": "stdout",
     "output_type": "stream",
     "text": [
      "Sentence:    I pray that I will not be a burden to my loved ones and that I will beat this dragon\n",
      "Label:  fear\n"
     ]
    },
    {
     "data": {
      "text/html": [],
      "text/plain": [
       "<IPython.core.display.HTML object>"
      ]
     },
     "metadata": {},
     "output_type": "display_data"
    },
    {
     "data": {
      "text/html": [],
      "text/plain": [
       "<IPython.core.display.HTML object>"
      ]
     },
     "metadata": {},
     "output_type": "display_data"
    },
    {
     "data": {
      "text/html": [
       "\n",
       "    <style>\n",
       "    table.eli5-weights tr:hover {\n",
       "        filter: brightness(85%);\n",
       "    }\n",
       "</style>\n",
       "\n",
       "\n",
       "\n",
       "    \n",
       "\n",
       "    \n",
       "\n",
       "    \n",
       "\n",
       "    \n",
       "\n",
       "    \n",
       "\n",
       "    \n",
       "\n",
       "\n",
       "    \n",
       "\n",
       "    \n",
       "\n",
       "    \n",
       "\n",
       "    \n",
       "        \n",
       "\n",
       "    \n",
       "\n",
       "        \n",
       "\n",
       "        \n",
       "    \n",
       "        \n",
       "        \n",
       "    \n",
       "        <p style=\"margin-bottom: 0.5em; margin-top: 0em\">\n",
       "            <b>\n",
       "    \n",
       "        y=fear\n",
       "    \n",
       "</b>\n",
       "\n",
       "    \n",
       "    (probability <b>0.312</b>, score <b>-0.220</b>)\n",
       "\n",
       "top features\n",
       "        </p>\n",
       "    \n",
       "    <table class=\"eli5-weights\"\n",
       "           style=\"border-collapse: collapse; border: none; margin-top: 0em; table-layout: auto; margin-bottom: 2em;\">\n",
       "        <thead>\n",
       "        <tr style=\"border: none;\">\n",
       "            \n",
       "                <th style=\"padding: 0 1em 0 0.5em; text-align: right; border: none;\" title=\"Feature contribution already accounts for the feature value (for linear models, contribution = weight * feature value), and the sum of feature contributions is equal to the score or, for some classifiers, to the probability. Feature values are shown if &quot;show_feature_values&quot; is True.\">\n",
       "                    Contribution<sup>?</sup>\n",
       "                </th>\n",
       "            \n",
       "            <th style=\"padding: 0 0.5em 0 0.5em; text-align: left; border: none;\">Feature</th>\n",
       "            \n",
       "        </tr>\n",
       "        </thead>\n",
       "        <tbody>\n",
       "        \n",
       "            <tr style=\"background-color: hsl(120, 100.00%, 83.29%); border: none;\">\n",
       "    <td style=\"padding: 0 1em 0 0.5em; text-align: right; border: none;\">\n",
       "        +0.754\n",
       "    </td>\n",
       "    <td style=\"padding: 0 0.5em 0 0.5em; text-align: left; border: none;\">\n",
       "        Highlighted in text (sum)\n",
       "    </td>\n",
       "    \n",
       "</tr>\n",
       "        \n",
       "        \n",
       "\n",
       "        \n",
       "        \n",
       "            <tr style=\"background-color: hsl(0, 100.00%, 80.00%); border: none;\">\n",
       "    <td style=\"padding: 0 1em 0 0.5em; text-align: right; border: none;\">\n",
       "        -0.974\n",
       "    </td>\n",
       "    <td style=\"padding: 0 0.5em 0 0.5em; text-align: left; border: none;\">\n",
       "        &lt;BIAS&gt;\n",
       "    </td>\n",
       "    \n",
       "</tr>\n",
       "        \n",
       "\n",
       "        </tbody>\n",
       "    </table>\n",
       "\n",
       "    \n",
       "\n",
       "\n",
       "\n",
       "    <p style=\"margin-bottom: 2.5em; margin-top:-0.5em;\">\n",
       "        <span style=\"background-color: hsl(120, 100.00%, 91.80%); opacity: 0.82\" title=\"0.071\">i</span><span style=\"opacity: 0.80\"> </span><span style=\"background-color: hsl(120, 100.00%, 62.75%); opacity: 0.98\" title=\"0.616\">pray</span><span style=\"opacity: 0.80\"> </span><span style=\"background-color: hsl(120, 100.00%, 69.16%); opacity: 0.94\" title=\"0.470\">that</span><span style=\"opacity: 0.80\"> </span><span style=\"background-color: hsl(120, 100.00%, 72.61%); opacity: 0.92\" title=\"0.397\">i</span><span style=\"opacity: 0.80\"> </span><span style=\"background-color: hsl(120, 100.00%, 88.12%); opacity: 0.84\" title=\"0.120\">will</span><span style=\"opacity: 0.80\"> </span><span style=\"background-color: hsl(0, 100.00%, 86.21%); opacity: 0.84\" title=\"-0.149\">not</span><span style=\"opacity: 0.80\"> </span><span style=\"background-color: hsl(120, 100.00%, 70.38%); opacity: 0.93\" title=\"0.444\">be</span><span style=\"opacity: 0.80\"> </span><span style=\"background-color: hsl(120, 100.00%, 68.90%); opacity: 0.94\" title=\"0.476\">a</span><span style=\"opacity: 0.80\"> </span><span style=\"background-color: hsl(120, 100.00%, 70.35%); opacity: 0.93\" title=\"0.445\">burden</span><span style=\"opacity: 0.80\"> </span><span style=\"background-color: hsl(0, 100.00%, 98.93%); opacity: 0.80\" title=\"-0.004\">to</span><span style=\"opacity: 0.80\"> </span><span style=\"background-color: hsl(120, 100.00%, 85.12%); opacity: 0.85\" title=\"0.166\">my</span><span style=\"opacity: 0.80\"> </span><span style=\"background-color: hsl(120, 100.00%, 78.97%); opacity: 0.88\" title=\"0.272\">loved</span><span style=\"opacity: 0.80\"> </span><span style=\"background-color: hsl(120, 100.00%, 79.84%); opacity: 0.88\" title=\"0.256\">ones</span><span style=\"opacity: 0.80\"> </span><span style=\"background-color: hsl(120, 100.00%, 86.61%); opacity: 0.84\" title=\"0.143\">and</span><span style=\"opacity: 0.80\"> </span><span style=\"background-color: hsl(120, 100.00%, 73.38%); opacity: 0.91\" title=\"0.381\">that</span><span style=\"opacity: 0.80\"> </span><span style=\"background-color: hsl(120, 100.00%, 72.61%); opacity: 0.92\" title=\"0.397\">i</span><span style=\"opacity: 0.80\"> </span><span style=\"background-color: hsl(120, 100.00%, 66.88%); opacity: 0.95\" title=\"0.521\">will</span><span style=\"opacity: 0.80\"> </span><span style=\"background-color: hsl(120, 100.00%, 61.83%); opacity: 0.99\" title=\"0.638\">beat</span><span style=\"opacity: 0.80\"> </span><span style=\"background-color: hsl(120, 100.00%, 60.00%); opacity: 1.00\" title=\"0.682\">this</span><span style=\"opacity: 0.80\"> </span><span style=\"background-color: hsl(120, 100.00%, 85.05%); opacity: 0.85\" title=\"0.167\">dragon</span>\n",
       "    </p>\n",
       "\n",
       "\n",
       "    \n",
       "\n",
       "    \n",
       "\n",
       "    \n",
       "\n",
       "    \n",
       "\n",
       "\n",
       "    \n",
       "\n",
       "    \n",
       "\n",
       "    \n",
       "\n",
       "    \n",
       "\n",
       "    \n",
       "\n",
       "    \n",
       "\n",
       "\n",
       "    \n",
       "\n",
       "    \n",
       "\n",
       "    \n",
       "\n",
       "    \n",
       "\n",
       "    \n",
       "\n",
       "    \n",
       "\n",
       "\n",
       "\n"
      ],
      "text/plain": [
       "<IPython.core.display.HTML object>"
      ]
     },
     "execution_count": 15,
     "metadata": {},
     "output_type": "execute_result"
    }
   ],
   "source": [
    "emotions = ['joy', 'trust', 'fear', 'surprise', 'sadness', 'disgust', 'anger', 'anticipation', 'neutral']\n",
    "index = 14\n",
    "print('Sentence: ', sentences[index])\n",
    "print('Label: ', emotions[labels[index]])\n",
    "predictor.explain(sentences[index])"
   ]
  },
  {
   "cell_type": "code",
   "execution_count": null,
   "metadata": {},
   "outputs": [],
   "source": []
  }
 ],
 "metadata": {
  "kernelspec": {
   "display_name": "Python 3",
   "language": "python",
   "name": "python3"
  },
  "language_info": {
   "codemirror_mode": {
    "name": "ipython",
    "version": 3
   },
   "file_extension": ".py",
   "mimetype": "text/x-python",
   "name": "python",
   "nbconvert_exporter": "python",
   "pygments_lexer": "ipython3",
   "version": "3.6.9"
  }
 },
 "nbformat": 4,
 "nbformat_minor": 4
}
